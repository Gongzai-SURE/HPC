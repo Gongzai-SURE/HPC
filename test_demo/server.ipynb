{
 "cells": [
  {
   "cell_type": "code",
   "execution_count": 1,
   "id": "e028bd03-905a-4c48-b502-957f54af582f",
   "metadata": {},
   "outputs": [],
   "source": [
    "import socket\n",
    "import threading\n",
    "import re\n",
    "import subprocess\n",
    "import os\n",
    "import string\n",
    "import random\n",
    "\n",
    "\n",
    "\n",
    "def check_string_format(string):\n",
    "    pattern = r\"^send\\s+(\\w+)\\.py$\"\n",
    "    match = re.match(pattern, string)\n",
    "    if match:\n",
    "        filename = match.group(1)+\".py\"\n",
    "        return filename\n",
    "    else:\n",
    "        return None\n",
    "\n",
    "def generate_random_string(length=5):\n",
    "    letters = string.ascii_letters + string.digits\n",
    "    return (''.join(random.choice(letters) for _ in range(length)))+'.py'\n",
    "\n",
    "def receive_message(client_socket):\n",
    "    while True:\n",
    "        data = client_socket.recv(1024).decode('utf-8')\n",
    "        if not data:\n",
    "            break\n",
    "        print(\"Received message from client:\", data)\n",
    "        if data.upper() == \"QUIT\":\n",
    "            break\n",
    "        elif check_string_format(data):\n",
    "            print('Receiving file from client ...')\n",
    "            receive_and_run_program(client_socket)\n",
    "            continue\n",
    "        client_socket.send(\"Message received\".encode('utf-8'))\n",
    "    client_socket.close()\n",
    "    print(\"Close connection with \", client_socket)\n",
    "\n",
    "def send_until_quit(client_socket):\n",
    "    while True:\n",
    "        message = input(\"Enter message to send (QUIT to exit): \")\n",
    "        client_socket.send(message.encode('utf-8'))\n",
    "        if message.upper() == \"QUIT\":\n",
    "            break\n",
    "    client_socket.close()\n",
    "\n",
    "def handle_client(client_socket):\n",
    "    try:\n",
    "        # Start a thread to receive message\n",
    "        rcv_thread = threading.Thread(target=receive_message, args=(client_socket,))\n",
    "        rcv_thread.start()\n",
    "\n",
    "        # Start a thread to send message\n",
    "        send_thread = threading.Thread(target=send_until_quit, args=(client_socket,))\n",
    "        send_thread.start()\n",
    "        \n",
    "        send_thread.join()\n",
    "        rcv_thread.join()\n",
    "    except Exception as e:\n",
    "        print(e, \"connection error！\")\n",
    "\n",
    "def receive_and_run_program(client_socket):\n",
    "    tmp_filename = generate_random_string()\n",
    "    while True:\n",
    "        with open(tmp_filename,'ab') as f:\n",
    "        #with open('received_program.py', \"wb\") as f:\n",
    "            # 接收数据\n",
    "            data = client_socket.recv(1024)\n",
    "            if data == b'quit':\n",
    "                break\n",
    "            # 写入文件\n",
    "            f.write(data)\n",
    "            # 接受完成标志\n",
    "            client_socket.send('success'.encode())\n",
    "    print(\"File received successfully\")\n",
    "    # Run the received program\n",
    "    result = subprocess.run([\"python\", tmp_filename], capture_output=True, text=True)\n",
    "    print(result)\n",
    "    client_socket.send(result.stdout.encode())\n",
    "    os.remove(tmp_filename)\n",
    "            \n",
    "\n",
    "def start_server(host, port):\n",
    "    server_socket = socket.socket(socket.AF_INET, socket.SOCK_STREAM)\n",
    "    server_socket.bind((host, port))\n",
    "    server_socket.listen(5)\n",
    "    print(\"Server listening on\", host, \"port\", port)\n",
    "    while True:\n",
    "        client_socket, addr = server_socket.accept()\n",
    "        print(\"Accepted connection from\", addr)\n",
    "        client_handler = threading.Thread(target=handle_client, args=(client_socket,))\n",
    "        client_handler.start()"
   ]
  },
  {
   "cell_type": "code",
   "execution_count": null,
   "id": "40ef6332-a730-4e07-b989-9129ec7c6a2b",
   "metadata": {},
   "outputs": [
    {
     "name": "stdout",
     "output_type": "stream",
     "text": [
      "Server listening on 127.0.0.1 port 9987\n",
      "Accepted connection from ('127.0.0.1', 52290)\n",
      "Received message from client: 你好\n"
     ]
    },
    {
     "name": "stdin",
     "output_type": "stream",
     "text": [
      "Enter message to send (QUIT to exit):  你好\n"
     ]
    },
    {
     "name": "stdout",
     "output_type": "stream",
     "text": [
      "Received message from client: send example.py\n",
      "Receiving file from client ...\n"
     ]
    },
    {
     "name": "stdin",
     "output_type": "stream",
     "text": [
      "Enter message to send (QUIT to exit):  1\n"
     ]
    },
    {
     "name": "stdout",
     "output_type": "stream",
     "text": [
      "File received successfully\n",
      "CompletedProcess(args=['python', 'nEmHd.py'], returncode=0, stdout='', stderr='')\n"
     ]
    },
    {
     "name": "stdin",
     "output_type": "stream",
     "text": [
      "Enter message to send (QUIT to exit):  1\n",
      "Enter message to send (QUIT to exit):  3\n",
      "Enter message to send (QUIT to exit):  3\n",
      "Enter message to send (QUIT to exit):  quit\n"
     ]
    },
    {
     "name": "stdout",
     "output_type": "stream",
     "text": [
      "Close connection with  <socket.socket [closed] fd=-1, family=AddressFamily.AF_INET, type=SocketKind.SOCK_STREAM, proto=0>\n",
      "Accepted connection from ('127.0.0.1', 34542)\n",
      "Received message from client: send example.py\n",
      "Receiving file from client ...\n"
     ]
    }
   ],
   "source": [
    "if __name__ == \"__main__\":\n",
    "    start_server(\"127.0.0.1\", 9987)"
   ]
  },
  {
   "cell_type": "code",
   "execution_count": null,
   "id": "ed7753af-3efe-4b50-bc6d-a42bbda9e2b1",
   "metadata": {},
   "outputs": [],
   "source": []
  },
  {
   "cell_type": "code",
   "execution_count": null,
   "id": "7f832dfe-45cd-41ad-b7a9-60b6b3fe3f22",
   "metadata": {},
   "outputs": [],
   "source": []
  }
 ],
 "metadata": {
  "kernelspec": {
   "display_name": "Python 3 (ipykernel)",
   "language": "python",
   "name": "python3"
  },
  "language_info": {
   "codemirror_mode": {
    "name": "ipython",
    "version": 3
   },
   "file_extension": ".py",
   "mimetype": "text/x-python",
   "name": "python",
   "nbconvert_exporter": "python",
   "pygments_lexer": "ipython3",
   "version": "3.10.8"
  }
 },
 "nbformat": 4,
 "nbformat_minor": 5
}
